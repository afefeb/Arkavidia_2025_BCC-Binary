{
 "cells": [
  {
   "cell_type": "code",
   "execution_count": 2,
   "metadata": {},
   "outputs": [
    {
     "name": "stdout",
     "output_type": "stream",
     "text": [
      "Jumlah id yang hilang: 0\n",
      "Contoh id yang hilang: []\n"
     ]
    }
   ],
   "source": [
    "import pandas as pd\n",
    "\n",
    "# Baca file submission kamu dan sample submission\n",
    "submission = pd.read_csv('submission.csv')\n",
    "sample_submission = pd.read_csv('../comodity-price-prediction-penyisihan-arkavidia-9/Harga Bahan Pangan/sample_submission.csv')\n",
    "\n",
    "# Bandingkan id yang ada di sample submission tapi tidak ada di submission\n",
    "missing_ids = set(sample_submission['id']) - set(submission['id'])\n",
    "\n",
    "# Tampilkan jumlah dan contoh id yang hilang\n",
    "print(f\"Jumlah id yang hilang: {len(missing_ids)}\")\n",
    "print(\"Contoh id yang hilang:\", list(missing_ids)[:10])"
   ]
  }
 ],
 "metadata": {
  "kernelspec": {
   "display_name": "myenv",
   "language": "python",
   "name": "python3"
  },
  "language_info": {
   "codemirror_mode": {
    "name": "ipython",
    "version": 3
   },
   "file_extension": ".py",
   "mimetype": "text/x-python",
   "name": "python",
   "nbconvert_exporter": "python",
   "pygments_lexer": "ipython3",
   "version": "3.12.8"
  }
 },
 "nbformat": 4,
 "nbformat_minor": 2
}
